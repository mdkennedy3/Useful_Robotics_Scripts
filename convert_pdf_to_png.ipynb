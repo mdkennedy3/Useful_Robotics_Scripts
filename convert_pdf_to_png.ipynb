{
  "nbformat": 4,
  "nbformat_minor": 0,
  "metadata": {
    "colab": {
      "provenance": [],
      "authorship_tag": "ABX9TyPBjIsmmc/IF0CemCxL6QDK",
      "include_colab_link": true
    },
    "kernelspec": {
      "name": "python3",
      "display_name": "Python 3"
    },
    "language_info": {
      "name": "python"
    }
  },
  "cells": [
    {
      "cell_type": "markdown",
      "metadata": {
        "id": "view-in-github",
        "colab_type": "text"
      },
      "source": [
        "<a href=\"https://colab.research.google.com/github/mdkennedy3/Useful_Robotics_Scripts/blob/master/convert_pdf_to_png.ipynb\" target=\"_parent\"><img src=\"https://colab.research.google.com/assets/colab-badge.svg\" alt=\"Open In Colab\"/></a>"
      ]
    },
    {
      "cell_type": "code",
      "source": [
        "!apt-get install poppler-utils\n",
        "!pip install pdf2image"
      ],
      "metadata": {
        "id": "RHWqiSUBtyKP"
      },
      "execution_count": null,
      "outputs": []
    },
    {
      "cell_type": "code",
      "execution_count": null,
      "metadata": {
        "id": "g_rwCfYStVv-"
      },
      "outputs": [],
      "source": [
        "from google.colab import files\n",
        "import os\n",
        "from pdf2image import convert_from_path\n",
        "from PIL import Image\n",
        "import shutil\n",
        "\n",
        "# Upload a PDF file\n",
        "uploaded = files.upload()\n",
        "\n",
        "# Get the filename\n",
        "pdf_filename = list(uploaded.keys())[0]\n",
        "\n",
        "# Create an output directory\n",
        "output_dir = \"pdf_images\"\n",
        "os.makedirs(output_dir, exist_ok=True)\n",
        "\n",
        "# Convert PDF to images (300 DPI for high resolution)\n",
        "images = convert_from_path(pdf_filename, dpi=300)\n",
        "\n",
        "# Save each page as a PNG\n",
        "saved_images = []\n",
        "for i, img in enumerate(images):\n",
        "    img_path = os.path.join(output_dir, f\"page_{i+1}.png\")\n",
        "    img.save(img_path, \"PNG\")\n",
        "    saved_images.append(img_path)\n",
        "\n",
        "# Display the first converted image (as a preview)\n",
        "Image.open(saved_images[0]).show()\n",
        "\n",
        "# Zip all PNGs for easy download\n",
        "shutil.make_archive(\"converted_images\", 'zip', output_dir)\n",
        "\n",
        "# Download the ZIP file\n",
        "files.download(\"converted_images.zip\")\n",
        "\n",
        "print(\"Conversion complete! Download the images.zip file.\")"
      ]
    }
  ]
}