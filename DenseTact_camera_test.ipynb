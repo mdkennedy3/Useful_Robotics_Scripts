{
  "nbformat": 4,
  "nbformat_minor": 0,
  "metadata": {
    "colab": {
      "provenance": [],
      "include_colab_link": true
    },
    "kernelspec": {
      "name": "python3",
      "display_name": "Python 3"
    },
    "language_info": {
      "name": "python"
    }
  },
  "cells": [
    {
      "cell_type": "markdown",
      "metadata": {
        "id": "view-in-github",
        "colab_type": "text"
      },
      "source": [
        "<a href=\"https://colab.research.google.com/github/mdkennedy3/Useful_Robotics_Scripts/blob/master/DenseTact_camera_test.ipynb\" target=\"_parent\"><img src=\"https://colab.research.google.com/assets/colab-badge.svg\" alt=\"Open In Colab\"/></a>"
      ]
    },
    {
      "cell_type": "markdown",
      "source": [
        "# DenseTact Testing Colab\n",
        "\n",
        "This page allows one to quickly see the raw image inside a USB connected DenseTact sensor\n",
        "![](https://arm.stanford.edu/sites/g/files/sbiybj21131/files/styles/card_1900x950/public/media/image/integrated_densetact-min_1.png?h=6ad01adc&itok=BNDEBePM)"
      ],
      "metadata": {
        "id": "LKBCwd_mxSN7"
      }
    },
    {
      "cell_type": "markdown",
      "source": [
        "## First we ask for access to your camera:"
      ],
      "metadata": {
        "id": "HlcX81IJxWr0"
      }
    },
    {
      "cell_type": "code",
      "source": [
        "from IPython.display import display, Javascript\n",
        "from google.colab.output import eval_js\n",
        "\n",
        "# Function to prompt for camera access\n",
        "def request_camera_access():\n",
        "    js = Javascript('''\n",
        "    (async function() {\n",
        "        try {\n",
        "            // This line prompts the user for camera access\n",
        "            const stream = await navigator.mediaDevices.getUserMedia({video: true});\n",
        "            // Use the stream or just trigger the prompt\n",
        "            stream.getTracks().forEach(track => track.stop()); // Stops the camera after access is granted\n",
        "            return true; // Indicates success\n",
        "        } catch (error) {\n",
        "            return {error: error.message}; // Error handling\n",
        "        }\n",
        "    })()\n",
        "    ''')\n",
        "    display(js)\n",
        "    return eval_js('''\n",
        "    (async function() {\n",
        "        try {\n",
        "            const stream = await navigator.mediaDevices.getUserMedia({video: true});\n",
        "            stream.getTracks().forEach(track => track.stop());\n",
        "            return true;\n",
        "        } catch (error) {\n",
        "            return {error: error.message};\n",
        "        }\n",
        "    })()\n",
        "    ''')\n",
        "\n",
        "# Request camera access as soon as this cell runs\n",
        "camera_access = request_camera_access()\n",
        "if isinstance(camera_access, dict) and 'error' in camera_access:\n",
        "    print(\"Failed to access camera:\", camera_access['error'])\n",
        "else:\n",
        "    print(\"Camera access granted.\")\n",
        "\n",
        "# Further code to utilize the camera can follow here\n"
      ],
      "metadata": {
        "id": "3y1CPvZ4xOFd",
        "colab": {
          "base_uri": "https://localhost:8080/",
          "height": 34
        },
        "outputId": "281fda80-d116-42c9-c84e-e53199a6a14d"
      },
      "execution_count": 22,
      "outputs": [
        {
          "output_type": "display_data",
          "data": {
            "text/plain": [
              "<IPython.core.display.Javascript object>"
            ],
            "application/javascript": [
              "\n",
              "    (async function() {\n",
              "        try {\n",
              "            // This line prompts the user for camera access\n",
              "            const stream = await navigator.mediaDevices.getUserMedia({video: true});\n",
              "            // Use the stream or just trigger the prompt\n",
              "            stream.getTracks().forEach(track => track.stop()); // Stops the camera after access is granted\n",
              "            return true; // Indicates success\n",
              "        } catch (error) {\n",
              "            return {error: error.message}; // Error handling\n",
              "        }\n",
              "    })()\n",
              "    "
            ]
          },
          "metadata": {}
        },
        {
          "output_type": "stream",
          "name": "stdout",
          "text": [
            "Camera access granted.\n"
          ]
        }
      ]
    },
    {
      "cell_type": "markdown",
      "source": [
        "We then list all the cameras and their IDs available, you will need to copy the specific ID you want to use in the next block"
      ],
      "metadata": {
        "id": "UlUXPrfMxZWv"
      }
    },
    {
      "cell_type": "code",
      "source": [
        "from IPython.display import display, Javascript\n",
        "from google.colab.output import eval_js\n",
        "\n",
        "def get_video_input_devices():\n",
        "    js = Javascript('''\n",
        "    (async function() {\n",
        "        const devices = await navigator.mediaDevices.enumerateDevices();\n",
        "        const videoDevices = devices.filter(device => device.kind === 'videoinput');\n",
        "        return videoDevices.map(device => ({label: device.label, id: device.deviceId}));\n",
        "    })()\n",
        "    ''')\n",
        "    display(js)\n",
        "    try:\n",
        "        # Directly executing the anonymous async function\n",
        "        result = eval_js('(async function() { \\\n",
        "            const devices = await navigator.mediaDevices.enumerateDevices(); \\\n",
        "            const videoDevices = devices.filter(device => device.kind === \"videoinput\"); \\\n",
        "            return videoDevices.map(device => ({label: device.label, id: device.deviceId})); \\\n",
        "        })()')\n",
        "        return result\n",
        "    except Exception as e:\n",
        "        print(f\"Failed to execute JS: {e}\")\n",
        "        return []\n",
        "\n",
        "# Display the list of video input devices\n",
        "devices = get_video_input_devices()\n",
        "if devices:\n",
        "    print(\"Available video input devices:\")\n",
        "    for device in devices:\n",
        "        print(f\"Label: {device['label']}, ID: {device['id']}\")\n",
        "else:\n",
        "    print(\"No devices found or JavaScript execution failed.\")\n"
      ],
      "metadata": {
        "id": "KNDRAOPfsHeb"
      },
      "execution_count": null,
      "outputs": []
    },
    {
      "cell_type": "markdown",
      "source": [
        "Given the USB ID (not webcam), copy that into the auto-generated prompt below"
      ],
      "metadata": {
        "id": "q27Hy4zFxhoA"
      }
    },
    {
      "cell_type": "code",
      "source": [
        "from IPython.display import display, Javascript\n",
        "from google.colab.output import eval_js\n",
        "\n",
        "# Function to fetch video input devices using JavaScript directly\n",
        "def get_video_input_devices():\n",
        "    js = Javascript('''\n",
        "    (async function() {\n",
        "        const devices = await navigator.mediaDevices.enumerateDevices();\n",
        "        const videoDevices = devices.filter(device => device.kind === 'videoinput');\n",
        "        return videoDevices.map(device => ({label: device.label, id: device.deviceId}));\n",
        "    })()\n",
        "    ''')\n",
        "    display(js)\n",
        "    return eval_js('''\n",
        "        (async function() {\n",
        "            const devices = await navigator.mediaDevices.enumerateDevices();\n",
        "            const videoDevices = devices.filter(device => device.kind === 'videoinput');\n",
        "            return videoDevices.map(device => ({label: device.label, id: device.deviceId}));\n",
        "        })()\n",
        "    ''')\n",
        "\n",
        "# Function to create a video element and stream video from a specified camera\n",
        "def video_stream(device_id):\n",
        "    js = Javascript(f'''\n",
        "    (async function() {{\n",
        "        const video = document.createElement('video');\n",
        "        video.style.display = 'block';\n",
        "        const stream = await navigator.mediaDevices.getUserMedia({{video: {{deviceId: {{exact: \"{device_id}\"}}}}}});\n",
        "        document.body.appendChild(video);\n",
        "        video.srcObject = stream;\n",
        "        await video.play();\n",
        "    }})()\n",
        "    ''')\n",
        "    display(js)\n",
        "\n",
        "# Main execution flow\n",
        "devices = get_video_input_devices()\n",
        "print(\"Available video input devices:\")\n",
        "for device in devices:\n",
        "    print(f\"Label: {device['label']}, ID: {device['id']}\")\n",
        "\n",
        "# Prompt for manual input of the desired camera device ID\n",
        "device_id = input(\"Enter the Device ID of the USB camera you want to use: \")\n",
        "\n",
        "# Stream video from the specified camera\n",
        "video_stream(device_id)\n"
      ],
      "metadata": {
        "id": "DDVE91e6t1Ag",
        "colab": {
          "base_uri": "https://localhost:8080/",
          "height": 566
        },
        "outputId": "633b26cb-3815-4b01-a30e-48fb03b4c7d8"
      },
      "execution_count": 23,
      "outputs": [
        {
          "output_type": "display_data",
          "data": {
            "text/plain": [
              "<IPython.core.display.Javascript object>"
            ],
            "application/javascript": [
              "\n",
              "    (async function() {\n",
              "        const devices = await navigator.mediaDevices.enumerateDevices();\n",
              "        const videoDevices = devices.filter(device => device.kind === 'videoinput');\n",
              "        return videoDevices.map(device => ({label: device.label, id: device.deviceId}));\n",
              "    })()\n",
              "    "
            ]
          },
          "metadata": {}
        },
        {
          "name": "stdout",
          "output_type": "stream",
          "text": [
            "Available video input devices:\n",
            "Label: FaceTime HD Camera (467C:1317), ID: 27ffefd278570b5bfff3cef24e0e73604624bfc9d90b35939616ad95f2e0623a\n",
            "Label: P600 (1b17:0522), ID: f3d484f213d15e9a2306612805e5c0750a133468dce82ffb0b11bc80b96fd379\n",
            "Enter the Device ID of the USB camera you want to use: f3d484f213d15e9a2306612805e5c0750a133468dce82ffb0b11bc80b96fd379\n"
          ]
        },
        {
          "output_type": "display_data",
          "data": {
            "text/plain": [
              "<IPython.core.display.Javascript object>"
            ],
            "application/javascript": [
              "\n",
              "    (async function() {\n",
              "        const video = document.createElement('video');\n",
              "        video.style.display = 'block';\n",
              "        const stream = await navigator.mediaDevices.getUserMedia({video: {deviceId: {exact: \"f3d484f213d15e9a2306612805e5c0750a133468dce82ffb0b11bc80b96fd379\"}}});\n",
              "        document.body.appendChild(video);\n",
              "        video.srcObject = stream;\n",
              "        await video.play();\n",
              "    })()\n",
              "    "
            ]
          },
          "metadata": {}
        }
      ]
    },
    {
      "cell_type": "markdown",
      "source": [
        "# Vary Image Brightness\n",
        "This version allows one to use a sliding bar to update image brightness"
      ],
      "metadata": {
        "id": "3HyrcHnc_xdd"
      }
    },
    {
      "cell_type": "code",
      "source": [
        "from IPython.display import display, Javascript\n",
        "from google.colab.output import eval_js\n",
        "import ipywidgets as widgets\n",
        "\n",
        "# Function to fetch video input devices using JavaScript directly\n",
        "def get_video_input_devices():\n",
        "    js = Javascript('''\n",
        "    (async function() {\n",
        "        const devices = await navigator.mediaDevices.enumerateDevices();\n",
        "        const videoDevices = devices.filter(device => device.kind === 'videoinput');\n",
        "        return videoDevices.map(device => ({label: device.label, id: device.deviceId}));\n",
        "    })()\n",
        "    ''')\n",
        "    display(js)\n",
        "    return eval_js('''\n",
        "        (async function() {\n",
        "            const devices = await navigator.mediaDevices.enumerateDevices();\n",
        "            const videoDevices = devices.filter(device => device.kind === 'videoinput');\n",
        "            return videoDevices.map(device => ({label: device.label, id: device.deviceId}));\n",
        "        })()\n",
        "    ''')\n",
        "\n",
        "# Function to create a video element and stream video from a specified camera with adjustable brightness\n",
        "def video_stream(device_id):\n",
        "    js = Javascript(f'''\n",
        "    (async function() {{\n",
        "        const video = document.createElement('video');\n",
        "        video.style.display = 'block';\n",
        "        const stream = await navigator.mediaDevices.getUserMedia({{video: {{deviceId: {{exact: \"{device_id}\"}}}}}});\n",
        "        document.body.appendChild(video);\n",
        "        video.srcObject = stream;\n",
        "        await video.play();\n",
        "\n",
        "        // Create a slider to control the brightness\n",
        "        const slider = document.createElement('input');\n",
        "        slider.type = 'range';\n",
        "        slider.min = 0;\n",
        "        slider.max = 2;\n",
        "        slider.step = 0.01;\n",
        "        slider.value = 1;\n",
        "        slider.style.width = '640px';\n",
        "        slider.style.marginTop = '10px';\n",
        "        document.body.appendChild(slider);\n",
        "\n",
        "        // Adjust brightness based on slider value\n",
        "        slider.oninput = function() {{\n",
        "            video.style.filter = 'brightness(' + slider.value + ')';\n",
        "        }};\n",
        "    }})()\n",
        "    ''')\n",
        "    display(js)\n",
        "\n",
        "# Main execution flow\n",
        "devices = get_video_input_devices()\n",
        "print(\"Available video input devices:\")\n",
        "for device in devices:\n",
        "    print(f\"Label: {device['label']}, ID: {device['id']}\")\n",
        "\n",
        "# Prompt for manual input of the desired camera device ID\n",
        "device_id = input(\"Enter the Device ID of the USB camera you want to use: \")\n",
        "\n",
        "# Stream video from the specified camera\n",
        "video_stream(device_id)"
      ],
      "metadata": {
        "id": "V-MhuEeSG2yK"
      },
      "execution_count": null,
      "outputs": []
    }
  ]
}